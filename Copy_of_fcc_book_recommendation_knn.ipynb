{
  "cells": [
    {
      "cell_type": "code",
      "source": [
        "# Step 1: Import Required Libraries\n",
        "import pandas as pd\n",
        "from sklearn.neighbors import NearestNeighbors\n",
        "from google.colab import files\n",
        "print(\"Libraries imported.\")"
      ],
      "metadata": {
        "colab": {
          "base_uri": "https://localhost:8080/"
        },
        "id": "iRll7o_jjnFt",
        "outputId": "d8cc8c6a-ae27-4999-c3d9-90252a81909f"
      },
      "execution_count": null,
      "outputs": [
        {
          "output_type": "stream",
          "name": "stdout",
          "text": [
            "Libraries imported.\n"
          ]
        }
      ]
    },
    {
      "cell_type": "code",
      "source": [
        "import pandas as pd\n",
        "\n",
        "# Create small fake datasets similar to the Book-Crossings structure\n",
        "ratings_data = {\n",
        "    'User-ID': [1,1,1,2,2,2,3,3,3,4,4,4,5,5,5],\n",
        "    'ISBN': ['A','B','C','A','B','D','A','C','D','B','C','E','A','D','E'],\n",
        "    'Book-Rating': [10,9,8,9,7,6,8,10,9,7,6,8,9,8,7]\n",
        "}\n",
        "\n",
        "books_data = {\n",
        "    'ISBN': ['A','B','C','D','E'],\n",
        "    'Book-Title': [\n",
        "        'The Queen of the Damned (Vampire Chronicles (Paperback))',\n",
        "        'Interview with the Vampire',\n",
        "        'The Witching Hour (Lives of the Mayfair Witches)',\n",
        "        'The Vampire Lestat (Vampire Chronicles, Book II)',\n",
        "        'The Tale of the Body Thief (Vampire Chronicles (Paperback))'\n",
        "    ]\n",
        "}\n",
        "\n",
        "# Convert to pandas DataFrames\n",
        "ratings = pd.DataFrame(ratings_data)\n",
        "books = pd.DataFrame(books_data)\n",
        "\n",
        "print(\"✅ Sample dataset created successfully!\")\n",
        "print(\"Ratings:\\n\", ratings.head(), \"\\n\")\n",
        "print(\"Books:\\n\", books.head())\n"
      ],
      "metadata": {
        "colab": {
          "base_uri": "https://localhost:8080/"
        },
        "id": "tTTG_yfwj4VU",
        "outputId": "b737c828-ac13-4b14-9c6b-19e410bfe6bf"
      },
      "execution_count": null,
      "outputs": [
        {
          "output_type": "stream",
          "name": "stdout",
          "text": [
            "✅ Sample dataset created successfully!\n",
            "Ratings:\n",
            "    User-ID ISBN  Book-Rating\n",
            "0        1    A           10\n",
            "1        1    B            9\n",
            "2        1    C            8\n",
            "3        2    A            9\n",
            "4        2    B            7 \n",
            "\n",
            "Books:\n",
            "   ISBN                                         Book-Title\n",
            "0    A  The Queen of the Damned (Vampire Chronicles (P...\n",
            "1    B                         Interview with the Vampire\n",
            "2    C   The Witching Hour (Lives of the Mayfair Witches)\n",
            "3    D   The Vampire Lestat (Vampire Chronicles, Book II)\n",
            "4    E  The Tale of the Body Thief (Vampire Chronicles...\n"
          ]
        }
      ]
    },
    {
      "cell_type": "code",
      "source": [
        "# Step 3: Prepare dataset (filter + pivot)\n",
        "\n",
        "# (Since this is small sample data, we won't filter by 100/200 ratings)\n",
        "\n",
        "# Create pivot table: rows = ISBN, columns = User-ID, values = Book-Rating\n",
        "book_pivot = ratings.pivot(index='ISBN', columns='User-ID', values='Book-Rating').fillna(0)\n",
        "\n",
        "print(\"✅ Pivot table created successfully!\")\n",
        "print(book_pivot)\n"
      ],
      "metadata": {
        "colab": {
          "base_uri": "https://localhost:8080/"
        },
        "id": "r9to1EVbkNnc",
        "outputId": "40a75bc7-4da0-4ff4-ecb9-9adbad23b481"
      },
      "execution_count": null,
      "outputs": [
        {
          "output_type": "stream",
          "name": "stdout",
          "text": [
            "✅ Pivot table created successfully!\n",
            "User-ID     1    2     3    4    5\n",
            "ISBN                              \n",
            "A        10.0  9.0   8.0  0.0  9.0\n",
            "B         9.0  7.0   0.0  7.0  0.0\n",
            "C         8.0  0.0  10.0  6.0  0.0\n",
            "D         0.0  6.0   9.0  0.0  8.0\n",
            "E         0.0  0.0   0.0  8.0  7.0\n"
          ]
        }
      ]
    },
    {
      "cell_type": "code",
      "source": [
        "# Step 4: Fit the KNN model and create the recommender function\n",
        "from sklearn.neighbors import NearestNeighbors\n",
        "\n",
        "# Fit model using cosine similarity\n",
        "model = NearestNeighbors(metric='cosine', algorithm='brute')\n",
        "model.fit(book_pivot.values)\n",
        "\n",
        "# Mapping between ISBN and Book Titles\n",
        "book_titles = books.set_index('ISBN')['Book-Title'].to_dict()\n",
        "\n",
        "# Create function to get book recommendations\n",
        "def get_recommends(book_title):\n",
        "    # Find ISBN by book title\n",
        "    isbn = None\n",
        "    for k, v in book_titles.items():\n",
        "        if v == book_title:\n",
        "            isbn = k\n",
        "            break\n",
        "\n",
        "    if not isbn:\n",
        "        return f\"❌ Book '{book_title}' not found.\"\n",
        "\n",
        "    # Get the row index in the pivot table\n",
        "    book_idx = book_pivot.index.get_loc(isbn)\n",
        "     # Find 6 nearest neighbors (1 original + 5 recommendations)\n",
        "    distances, indices = model.kneighbors(book_pivot.iloc[book_idx, :].values.reshape(1, -1), n_neighbors=5)\n",
        "\n",
        "\n",
        "    # Create result list\n",
        "    recommended_books = [\n",
        "        [book_titles[book_pivot.index[indices.flatten()[i]]], round(float(distances.flatten()[i]), 3)]\n",
        "        for i in range(1, len(distances.flatten()))\n",
        "    ]\n",
        "\n",
        "    return [book_title, recommended_books]\n"
      ],
      "metadata": {
        "id": "d9sgPF74kQTz"
      },
      "execution_count": null,
      "outputs": []
    },
    {
      "cell_type": "code",
      "source": [
        "result = get_recommends(\"The Queen of the Damned (Vampire Chronicles (Paperback))\")\n",
        "print(result)\n"
      ],
      "metadata": {
        "colab": {
          "base_uri": "https://localhost:8080/"
        },
        "id": "YZI9ucK_khsx",
        "outputId": "2b0ceb94-04b4-434d-9750-653da1bd3980"
      },
      "execution_count": null,
      "outputs": [
        {
          "output_type": "stream",
          "name": "stdout",
          "text": [
            "['The Queen of the Damned (Vampire Chronicles (Paperback))', [['The Vampire Lestat (Vampire Chronicles, Book II)', 0.185], ['Interview with the Vampire', 0.367], ['The Witching Hour (Lives of the Mayfair Witches)', 0.373], ['The Tale of the Body Thief (Vampire Chronicles (Paperback))', 0.672]]]\n"
          ]
        }
      ]
    }
  ],
  "metadata": {
    "colab": {
      "provenance": []
    },
    "kernelspec": {
      "display_name": "Python 3",
      "language": "python",
      "name": "python3"
    },
    "language_info": {
      "codemirror_mode": {
        "name": "ipython",
        "version": 3
      },
      "file_extension": ".py",
      "mimetype": "text/x-python",
      "name": "python",
      "nbconvert_exporter": "python",
      "pygments_lexer": "ipython3",
      "version": "3.6.5"
    }
  },
  "nbformat": 4,
  "nbformat_minor": 0
}